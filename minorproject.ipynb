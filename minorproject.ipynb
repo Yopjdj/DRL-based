{
  "nbformat": 4,
  "nbformat_minor": 0,
  "metadata": {
    "colab": {
      "provenance": [],
      "authorship_tag": "ABX9TyNOw6w9N5iiL57BSJPnjHHZ",
      "include_colab_link": true
    },
    "kernelspec": {
      "name": "python3",
      "display_name": "Python 3"
    },
    "language_info": {
      "name": "python"
    }
  },
  "cells": [
    {
      "cell_type": "markdown",
      "metadata": {
        "id": "view-in-github",
        "colab_type": "text"
      },
      "source": [
        "<a href=\"https://colab.research.google.com/github/Yopjdj/DRL-based/blob/main/minorproject.ipynb\" target=\"_parent\"><img src=\"https://colab.research.google.com/assets/colab-badge.svg\" alt=\"Open In Colab\"/></a>"
      ]
    },
    {
      "cell_type": "code",
      "source": [
        "import random\n",
        "\n",
        "# Number of devices and tasks\n",
        "num_devices = 200\n",
        "num_tasks = 100\n",
        "\n",
        "# Generate random locations for devices and tasks\n",
        "def generate_random_locations(num_devices, num_tasks, filename):\n",
        "    device_locations = [(random.randint(0, 500), random.randint(0, 500)) for _ in range(num_devices)]\n",
        "    task_locations = [(random.randint(0, 500), random.randint(0, 500)) for _ in range(num_tasks)]\n",
        "\n",
        "    with open(filename, 'w') as file:\n",
        "        for loc in task_locations:\n",
        "            file.write(f\"task {loc[0]} {loc[1]}\\n\")\n",
        "        for loc in device_locations:\n",
        "            file.write(f\"device {loc[0]} {loc[1]}\\n\")\n",
        "\n",
        "generate_random_locations(num_devices, num_tasks, 'locations.txt')\n",
        "print(f\"Random locations for {num_tasks} tasks and {num_devices} devices have been saved to locations.txt\")"
      ],
      "metadata": {
        "id": "EbWkCO5sIn_L",
        "collapsed": true
      },
      "execution_count": null,
      "outputs": []
    },
    {
      "cell_type": "code",
      "source": [
        "import numpy as np\n",
        "import random\n",
        "\n",
        "# Define the Q-table and parameters\n",
        "num_devices = 200  # Number of devices\n",
        "num_tasks = 100  # Number of tasks\n",
        "Q_table = np.zeros((num_tasks, num_devices))  # Initialize the Q-table\n",
        "learning_rate = 0.1\n",
        "discount_factor = 0.9\n",
        "exploration_rate = 0.1\n",
        "\n",
        "#Function to read locations from a file\n",
        "def read_locations(filename):\n",
        "    task_locations = []\n",
        "    device_locations = []\n",
        "    with open(filename, 'r') as file:\n",
        "        for line in file:\n",
        "            if line.startswith(\"task\"):\n",
        "                _, x, y = line.strip().split()\n",
        "                task_locations.append((int(x), int(y)))\n",
        "            elif line.startswith(\"device\"):\n",
        "                _, x, y = line.strip().split()\n",
        "                device_locations.append((int(x), int(y)))\n",
        "    return task_locations, device_locations\n",
        "\n",
        "# Read locations from file\n",
        "task_locations, device_locations = read_locations('locations.txt')\n",
        "\n",
        "# Function to calculate the Euclidean distance between two points\n",
        "def calculate_distance(point1, point2):\n",
        "    x1, y1 = point1\n",
        "    x2, y2 = point2\n",
        "    return ((x1 - x2) ** 2 + (y1 - y2) ** 2) ** 0.5\n",
        "\n",
        "# Function to choose the next task and device based on the Q-table\n",
        "def choose_action(task_index):\n",
        "    if np.random.uniform() < exploration_rate:\n",
        "        # Explore by choosing a random device\n",
        "        device_index = np.random.randint(num_devices)\n",
        "    else:\n",
        "        # Exploit by choosing the device with the highest Q-value\n",
        "        device_index = np.argmax(Q_table[task_index])\n",
        "    return device_index\n",
        "\n",
        "# Main training loop\n",
        "for episode in range(1000):\n",
        "    # Shuffle the tasks\n",
        "    task_indices = list(range(num_tasks))\n",
        "    random.shuffle(task_indices)\n",
        "\n",
        "    total_distance = 0\n",
        "    current_device_location = device_locations[0]  # Start from the first device location\n",
        "\n",
        "    for task_index in task_indices:\n",
        "        # Choose the device for the current task\n",
        "        device_index = choose_action(task_index)\n",
        "\n",
        "        # Calculate the distance between the current device location and the task location\n",
        "        task_location = task_locations[task_index]\n",
        "        distance = calculate_distance(current_device_location, task_location)\n",
        "        total_distance += distance\n",
        "\n",
        "        # Update the Q-table\n",
        "        old_value = Q_table[task_index, device_index]\n",
        "        remaining_tasks = task_indices[(task_indices.index(task_index) + 1):]\n",
        "        if remaining_tasks:\n",
        "            next_max = np.max(Q_table[remaining_tasks])\n",
        "        else:\n",
        "            next_max = 0  # If no remaining tasks, set next_max to 0\n",
        "        new_value = (1 - learning_rate) * old_value + learning_rate * (distance + discount_factor * next_max)\n",
        "        Q_table[task_index, device_index] = new_value\n",
        "\n",
        "        # Update the current device location\n",
        "        current_device_location = device_locations[device_index]\n",
        "\n",
        "    # Print the total distance for this episode\n",
        "    # print(f\"Episode {episode + 1}: Total distance = {total_distance}\")\n",
        "\n",
        "# Task assignment based on the trained Q-table\n",
        "task_assignments = []\n",
        "for task_index in range(num_tasks):\n",
        "    device_index = np.argmax(Q_table[task_index])\n",
        "    task_assignments.append((task_index, device_index))\n",
        "\n",
        "# Output the task assignments\n",
        "for task_index, device_index in task_assignments:\n",
        "    print(f\"Task {task_index} assigned to Device {device_index}\")"
      ],
      "metadata": {
        "id": "f4hSQ8e-Sxw1",
        "collapsed": true
      },
      "execution_count": null,
      "outputs": []
    }
  ]
}